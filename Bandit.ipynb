{
 "cells": [
  {
   "cell_type": "markdown",
   "metadata": {},
   "source": [
    "# Multi-Armed Bandit in Web Optimization\n",
    "\n",
    "**What?** Compare different versions of something to figure out which one is better, can be used as an alternative to AB testing.\n",
    "\n",
    "**Why?** To *mitigate the regret* introduced in AB test, the regret about the lost conversion you experience while sending people to the potentially worse variation in a test. Rather than splitting people to two groups and run a test, the algorithm updates the split through the experiment, pulling the winning slot machine arm most often, i.e. it moves traffic towards the winning variation gradually.\n",
    "\n",
    "**How?** Starts by sending traffic to two (or more) pages: the original and the variation, then, in an attempt to *pull the winning slot machine arm most often*, the algorithm updates based on whether or not a variation is ‘winning'. (There is also the randomization part though - the randomization of for example 10% - these trials would be used to explore the options, no matter the winning arm. It is a trade-off between trying new things in hopes of something better, and sticking with what it knows will work.)\n",
    "\n",
    "\n",
    "## Multi Armed Bandit Algorithm?\n",
    "\n",
    "- Example of reinforcement task\n",
    "- Explore/exploit trade-off task in sequential decision problems\n",
    "- Many algorithms available for this task\n",
    " - Thompson Sampling, one of the earliest ones actually, it is a Bayesian algorithm: The basic idea is to choose an arm to play according to its probability of being the true best arm. \n",
    "\n",
    "\n",
    "Given a set of actions with some unknown reward distributions which get better understood with the time in the experiment, the agent needs to allocate between competing choices for long-term reward maximization.\n",
    "\n",
    "In order to find the optimal solution, we need to explore all the actions to gain additional information, but at the same time, exploit the best action to maximize the expected reward, all while having limited resources.\n",
    "\n",
    "  \n",
    "\n",
    "- At each step there are k bandits, we select one by an action $a \\in {a_1,..a_k}$\n",
    "- Each bandit has a reward $r$ associated with it - 0,1 in our case\n",
    "- The reward for each action $r_a = P(r \\ | \\ a) $ is unknown\n",
    "- The reward distribution with unknown parameters is to be learned sequentially\n",
    "- Meaning, when played, each arm has $\\theta_k$ probability of reward 1, each $\\theta_k$ can be interpreted as an action’s success probability or mean reward. The mean rewards $\\theta = \\theta_1,..\\theta_k$ are unknown, but fixed over time. \n",
    "- Pulling the arm produces a reward r which is sampled from the underlying distribution for that bandit\n",
    "- The goal is to choose action at each time $a_t$ to maximize the reward $\\sum_t r_{a_i,t}$, where $r_{a_i,t} \\sim P_{a_i}$\n",
    "- The arm rewards are stochastic, therefore we concentrate on maximising the expected total reward $ E(\\sum_t r_{a_i,t})$\n",
    "- I.e., actually, the goal is to minimize the regret\n",
    "- What is the optimal arm? Different techniques.\n",
    "- Easy way out would be to select each bandit one by one at a uniform rate, keep track of the rewards, then go back to the one that paid out the most (i.e. you are assessing the underlying probability distribution), but each time you spend experimenting takes you away from maximizing your reward. You are probably getting less than if you would go with the current optimal lever.\n",
    "- Or second, keep pulling the bandit that gave you the max reward - here you are missing on collecting the information about the other arms that is valuable in finding the best overall arm in the long term.\n",
    "- this trade-off creates the **explore-exploit dilemma**, there are different possible solutions, such as\n",
    " - *The Epsilon-greedy agent* assigns $(1- \\epsilon)$ to exploit the current ‘best’ bandit, and $\\epsilon$: towards exploring better bandits\n",
    " - *Thomspon Sampling* randomly allocates observations to arms according the Bayesian posterior probability that each arm is optimal, it assumes a simple prior distribution on the parameters of the reward distribution of every arm, and at any time step, play an arm according to its posterior probability of being the best arm."
   ]
  },
  {
   "cell_type": "markdown",
   "metadata": {},
   "source": [
    "## In practice\n",
    "Multi-armed bandit has several approximate heuristic solutions.\n",
    "\n",
    "[Google](https://support.google.com/analytics/answer/2846882?hl=en&topic=2844866&rd=1) uses a heuristic known as Thompson Sampling, or Randomized Probability Matching, because it combines many of the best features of these heuristics. \n",
    "\n",
    "Let's use Thompson Sampling then."
   ]
  },
  {
   "cell_type": "markdown",
   "metadata": {},
   "source": [
    "## Thompson Sampling\n",
    "\n",
    "In TS, Bayes' theorem is used to update the probability for a hypothesis as more information becomes available, it derives the **posterior probability as a consequence of two: a prior probability and a \"likelihood function\"**.\n",
    "\n",
    "Because we are dealing with *Click-Through Rate*, the **likelihood will be binomial distribution** - binary output, number of clicks (success) out of page views.\n",
    "\n",
    "In Bayesian inference, for the Bernoulli and  Binomial distributions, the beta distribution is the conjugate prior probability distribution. I.e., the beta distribution can be used in Bayesian analysis to describe initial knowledge concerning probability of click - **the beta distribution is a suitable model for the random behavior of percentages and proportions.**\n",
    "\n",
    "The initial prior will be Beta(1,1) which corresponds to uniform distribution, i.e. we do not assume anything - all probabilities of winning are equally likely, i.e. we are using minimally informative prior.\n",
    "\n",
    "To calculate the posterior, given all acquired current data - take random sample from each bandit with its current Beta(a, b), for the bandit with the largest sample, pull it's arm, let x be the result of pulling an arm (either 0 or 1), update that bandit with the data from the last pull.\n",
    "\n",
    "When the prior is a Beta distribution and the likelihood is a Bernoulli distribution, the posterior is also a Beta distribution. Therefore the updated posterior parameters are: a' = a + x, b' = b + 1 – x and the updated distribution is Beta(a + x, b + 1 – x)\n",
    "\n",
    "**What do we need to keep track of?**\n",
    "- number of bandits (arms)\n",
    "- number of actions taken\n",
    "- rewards received for each arm\n",
    "- probability distribution for each arm\n",
    "- the probability that each variation beats the original - stop experiment if 95% sure that a variation beats the original.\n",
    "- the \"potential value remaining in the experiment\"- At any point in the experiment there is a winning arm, the \"value remaining\" in an experiment is the amount of increased conversion rate you could get by switching away from the currently winning unit.\n",
    "\n"
   ]
  },
  {
   "cell_type": "code",
   "execution_count": 186,
   "metadata": {},
   "outputs": [],
   "source": [
    "import numpy as np\n",
    "from scipy.stats import beta #prior/posterior distribution\n",
    "from scipy.stats import binom #likelihood\n",
    "from scipy.stats import bernoulli #generating testing samples (click/no click)\n",
    "import datetime #set the running time of the experiment\n",
    "from scipy.stats import itemfreq #MC simulation of arm probabilities\n",
    "\n",
    "\n",
    "class Bandit_TS(object):\n",
    "    def __init__(self, n_arm=3):\n",
    "        self.n_arm =  n_arm #number of arms\n",
    "        self.arm_distr = np.array([[1 for x in range(2)] for y in range(n_arm)]) #prior beta(1,1) for each arm\n",
    "        self.count = np.array([0] * n_arm) #step count for each arm - number of views\n",
    "        self.reward = np.array([0] * n_arm) #payoff for each arm - number of clicks\n",
    "        self.k = 0 #step count\n",
    "    \n",
    "    \n",
    "    def evaluate(self):\n",
    "        \"\"\"\n",
    "        Update final state of beta distributions\n",
    "        Output the optimal arm\n",
    "        Compute optimal arm probabilities by simulation\n",
    "        \n",
    "        \"\"\"\n",
    "        for i in range(self.n_arm):\n",
    "            self.arm_distr[self.n_arm-1] = np.array([1 + self.reward[self.n_arm-1], 1 + 1*self.count[self.n_arm-1] - self.reward[self.n_arm-1]])\n",
    "        \n",
    "\n",
    "    def bandit(self, stop_alpha=0.05, stop_value=0.95, iterat=1000):\n",
    "        \"\"\"\n",
    "        Run bandit\n",
    "        Stop criterion: \n",
    "        1st Use Bayes' theorem to compute the probability that variation beats others, if 95% sure that a variation beats the others then \"a winner has been found\"\n",
    "        2nd Potential value remaining in the experiment - the \"value remaining\" is the amount of increased conversion rate we could get by switching away from the current champion\n",
    "           To run the experiment only until we are sure that switching arms won’t help much.\n",
    "           If 100% sure that an arm is optimal = 0% 'value remaining' , \n",
    "           If  70% sure that an arm is optimal = 30% 'value remaining',i.e. 30% chance that another arm is better\n",
    "         End the experiment when there’s at least a 95% probability that the value remaining in the experiment is less than 1% of the champion’s conversion rate. \n",
    "         That’s a 1% improvement - if the best arm has a conversion rate of 4%, the experiment ends if the value remaining in the experiment is less than .04 percentage points of CvR.\n",
    "        \"\"\"   \n",
    "        #nextDay = datetime.datetime.now() + timedelta(days=14) #normaly the stop criterion would be days\n",
    "        \n",
    "        #1st - PROBABILITY THAT VARIATIONS BEATS OTHERS\n",
    "        #Let θ = (θ1, θ2,..., θk) denote the vector of conversion rates for arms 1,..k\n",
    "        #Simulate a matrix containing draws of θ from the relevant beta distributions, \n",
    "        ##the rows represent random draws, \n",
    "        ##the columns represent the k arms of the experiment\n",
    "        simul_m = np.zeros((10000,self.n_arm))\n",
    "        stop_first = np.zeros((10000,1))\n",
    "        while ((iterat!=None) and (iterat>=self.k) ):\n",
    "            self.choose_arm()\n",
    "            for i in range(10000):\n",
    "                simul_m[i] = beta.rvs(1 + self.reward, 1 + 1*self.count - self.reward)\n",
    "                stop_first[i] = np.argmax(simul_m[i])\n",
    "        #MC estimate of the probability that arm a is optimal is the empirical fraction of rows for which arm a had the largest simulated value\n",
    "            unique, counts = np.unique(stop_first, return_counts=True)\n",
    "            arm_prob = np.array((unique, counts/10000.0),dtype='float64').T\n",
    "        \n",
    "        #2ND - VALUE REMAINING\n",
    "        #The value remaining is the posterior distribution of (θmax-θ*)/θ*\n",
    "        ##θmax = largest value of θ\n",
    "        ##θ* = value of θ for the arm that is most likely to be optimal\n",
    "            opt_arm = int(arm_prob[np.argmax(arm_prob[:,1], axis=0),0])\n",
    "        #calculate the 95% percentile of the 'value remaining'\n",
    "            stop_second = np.percentile((np.max(simul_m,axis=1) - simul_m[:,opt_arm])/ simul_m[:,opt_arm], stop_value*100)\n",
    "        #End the experiment when there’s at least a 95% probability that the value remaining in the experiment is less than 1% of the champion’s conversion rate. \n",
    "        #That’s a 1% improvement - if the best arm has a conversion rate of 4%, the experiment ends if the value remaining in the experiment is less than .04 percentage points of CvR.\n",
    "            if np.max(arm_prob[:,1])>=(1-stop_alpha):\n",
    "                opt_arm = arm_prob[np.argmax(arm_prob[:,1], axis=0),0]\n",
    "                print('The winner has been found! The arm number {} has been found as optimal at the {} confidence level after {} page views.'.format(opt_arm,stop_alpha, self.k))\n",
    "                break\n",
    "            elif arm_prob[np.argmax(arm_prob[:,1], axis=0),1]*0.01 >=stop_second:\n",
    "                print('The winner has been found! The arm number {} has been found as optimal, as with {}% probability, the value remaining in the experiment is less than 1% possible improvement{}.'.format(opt_arm,stop_value*100,self.k))\n",
    "                break   \n",
    "            elif iterat==self.k:\n",
    "                print('After {} iterations, the winning arm is number {}.'.format(iterat, opt_arm))    \n",
    "                \n",
    "        \n",
    "    def choose_arm(self):\n",
    "        \"\"\"Choose an arm: explore x exploit\"\"\"\n",
    "        #take random sample from each bandit with its current Beta(a, b) and select largest sample\n",
    "        draw_arm = np.argmax(beta.rvs(1 + self.reward, 1 + 1*self.count - self.reward))\n",
    "        #take the arm with largest sample and pull\n",
    "        new_reward = self.pull(draw_arm)\n",
    "        #update winning arm with the data from the last pull\n",
    "        #When the prior is a Beta and the likelihood is a Bernoulli distribution, the posterior is Beta \n",
    "        #the updated posterior parameters are: a'=a+x,b'=b+1–x and the updated distribution is Beta(a+x,b+1–x)\n",
    "        self.count[draw_arm] += 1\n",
    "        self.reward[draw_arm] += new_reward\n",
    "        self.k += 1\n",
    "             \n",
    "    def pull(self, i):\n",
    "        \"\"\"Pull arm and fill randomly from bernoulli distr (replace this with click results: 1-click, 0-no click)\"\"\"\n",
    "        sample_bern = np.linspace(0.7,0.75,self.n_arm) #1st arm lowest probability of click, last arm highest prob. of click\n",
    "        return bernoulli.rvs(sample_bern[i], size=1)"
   ]
  },
  {
   "cell_type": "markdown",
   "metadata": {},
   "source": [
    "# Reference\n",
    "[Multi-armed bandit experiments By Steven L. Scott, PhD, Sr. Economic Analyst, Google](https://support.google.com/analytics/answer/2844870?visit_id=1-636675832156905893-2036948797&hl=en&ref_topic=2844866&rd=1)"
   ]
  },
  {
   "cell_type": "code",
   "execution_count": 187,
   "metadata": {},
   "outputs": [
    {
     "data": {
      "text/plain": [
       "array([0, 0])"
      ]
     },
     "execution_count": 187,
     "metadata": {},
     "output_type": "execute_result"
    }
   ],
   "source": [
    "l = Bandit_TS(2)\n",
    "l.count"
   ]
  },
  {
   "cell_type": "code",
   "execution_count": 188,
   "metadata": {},
   "outputs": [
    {
     "name": "stdout",
     "output_type": "stream",
     "text": [
      "The winner has been found! The arm number 1 has been found as optimal, as with 95.0% probability, the value remaining in the experiment is less than 1% possible improvement19.\n"
     ]
    }
   ],
   "source": [
    "l.bandit(iterat=1000)"
   ]
  },
  {
   "cell_type": "code",
   "execution_count": 151,
   "metadata": {},
   "outputs": [
    {
     "name": "stdout",
     "output_type": "stream",
     "text": [
      "[19 16]\n",
      "[ 6 10]\n",
      "[[ 1  1]\n",
      " [11  7]]\n"
     ]
    }
   ],
   "source": [
    "print(l.count)\n",
    "print(l.reward)\n",
    "l.evaluate()\n",
    "print(l.arm_distr)"
   ]
  },
  {
   "cell_type": "code",
   "execution_count": 162,
   "metadata": {},
   "outputs": [
    {
     "data": {
      "text/plain": [
       "array([0.72379976, 0.66726472, 0.52980372, 0.55533553, 0.63824496,\n",
       "       0.76647921, 0.71634506, 0.73569613, 0.49761221, 0.64043557,\n",
       "       0.72099139, 0.70033517, 0.57575517, 0.62361255, 0.56601642,\n",
       "       0.49994968, 0.66068505, 0.77057935, 0.42544783, 0.63167236,\n",
       "       0.43921033, 0.31596281, 0.75519304, 0.66215555, 0.64744448,\n",
       "       0.69337971, 0.66021125, 0.54721379, 0.74058319, 0.53074304,\n",
       "       0.63007018, 0.52745654, 0.90793326, 0.56563818, 0.4742972 ,\n",
       "       0.68161565, 0.62667203, 0.69262572, 0.71669753, 0.65790517,\n",
       "       0.53144114, 0.62907452, 0.52342719, 0.60086485, 0.80266375,\n",
       "       0.63278772, 0.53936658, 0.5656152 , 0.7524539 , 0.71843794])"
      ]
     },
     "execution_count": 162,
     "metadata": {},
     "output_type": "execute_result"
    }
   ],
   "source": [
    "beta.rvs(11, 7, size=50)"
   ]
  },
  {
   "cell_type": "code",
   "execution_count": 168,
   "metadata": {},
   "outputs": [],
   "source": [
    "simul_m = np.zeros((10,2))\n",
    "\n",
    "for i in range(10):\n",
    "    simul_m[i] = beta.rvs(1 + l.reward, 1 + 1*l.count - l.reward)\n",
    "    stop_first[i] = np.argmax(simul_m[i])\n",
    "        #MC estimate of the probability that arm a is optimal is the empirical fraction of rows for which arm a had the largest simulated value\n",
    "unique, counts = np.unique(stop_first, return_counts=True)\n",
    "arm_prob = np.array((unique, counts/10000.0),dtype='float64').T"
   ]
  },
  {
   "cell_type": "code",
   "execution_count": 172,
   "metadata": {},
   "outputs": [
    {
     "name": "stdout",
     "output_type": "stream",
     "text": [
      "(array([ 6, 10]), array([19, 16]))\n",
      "[0.19429723 0.41712598 0.50685797 0.21347753 0.38782563 0.36671591\n",
      " 0.26549788 0.52436061 0.36277161 0.23188391]\n",
      "[0.5699479  0.52728963 0.54156049 0.80503826 0.71875778 0.71403755\n",
      " 0.71290237 0.61162877 0.79981211 0.38669764]\n"
     ]
    }
   ],
   "source": [
    "print(l.reward, l.count)\n",
    "print(beta.rvs(1+6, 1+19-6, size=10))\n",
    "print(beta.rvs(1+10, 1+16-10, size=10))"
   ]
  },
  {
   "cell_type": "code",
   "execution_count": 169,
   "metadata": {},
   "outputs": [
    {
     "data": {
      "text/plain": [
       "array([[0.14441273, 0.41732086],\n",
       "       [0.2405907 , 0.78256302],\n",
       "       [0.19687684, 0.63634222],\n",
       "       [0.31940431, 0.36277244],\n",
       "       [0.33709339, 0.56462031],\n",
       "       [0.26856339, 0.70051594],\n",
       "       [0.4504511 , 0.58973462],\n",
       "       [0.23310067, 0.58818827],\n",
       "       [0.21293115, 0.54770297],\n",
       "       [0.20974756, 0.38421141]])"
      ]
     },
     "execution_count": 169,
     "metadata": {},
     "output_type": "execute_result"
    }
   ],
   "source": [
    "simul_m"
   ]
  },
  {
   "cell_type": "code",
   "execution_count": 170,
   "metadata": {},
   "outputs": [
    {
     "data": {
      "text/plain": [
       "array([[1.],\n",
       "       [1.],\n",
       "       [1.],\n",
       "       [1.],\n",
       "       [1.],\n",
       "       [1.],\n",
       "       [1.],\n",
       "       [1.],\n",
       "       [1.],\n",
       "       [1.]])"
      ]
     },
     "execution_count": 170,
     "metadata": {},
     "output_type": "execute_result"
    }
   ],
   "source": [
    "stop_first"
   ]
  },
  {
   "cell_type": "code",
   "execution_count": 61,
   "metadata": {},
   "outputs": [],
   "source": [
    "self_n_arm = 2\n",
    "self_arm_distr = np.array([[1 for x in range(2)] for y in range(self_n_arm)]) #prior beta(1,1) for each arm\n",
    "self_count = np.array([0] * self_n_arm) #step count for each arm - number of views\n",
    "self_reward = np.array([0] * self_n_arm) #payoff for each arm - number of clicks\n",
    "self_k = 0 #step count\n",
    "\n",
    "simul_m = np.zeros((10,self_n_arm))\n",
    "stop_first = np.zeros((10,1))\n"
   ]
  },
  {
   "cell_type": "code",
   "execution_count": 70,
   "metadata": {},
   "outputs": [],
   "source": [
    "for i in range(10):\n",
    "    simul_m[i] = beta.rvs(1 + self_reward, 1 + 1*self_count - self_reward)\n",
    "    stop_first[i] = np.argmax(simul_m[i])\n",
    "    #MC estimate of the probability that arm a is optimal is the empirical fraction of rows for which arm a had the largest simulated value\n",
    "unique, counts = np.unique(stop_first, return_counts=True)\n",
    "arm_prob = np.array((unique, counts/10.0),dtype='float64').T\n",
    "opt_arm = int(arm_prob[np.argmax(arm_prob[:,1], axis=0),0])"
   ]
  },
  {
   "cell_type": "code",
   "execution_count": 71,
   "metadata": {},
   "outputs": [
    {
     "name": "stdout",
     "output_type": "stream",
     "text": [
      "[[0.66625673 0.93561973]\n",
      " [0.797976   0.88116723]\n",
      " [0.33837417 0.8104794 ]\n",
      " [0.38847415 0.03146294]\n",
      " [0.88990776 0.66927843]\n",
      " [0.23789105 0.47428161]\n",
      " [0.04903929 0.02032877]\n",
      " [0.7818171  0.86588795]\n",
      " [0.22002196 0.41256933]\n",
      " [0.83660258 0.5966895 ]]\n",
      "[[1.]\n",
      " [1.]\n",
      " [1.]\n",
      " [0.]\n",
      " [0.]\n",
      " [1.]\n",
      " [0.]\n",
      " [1.]\n",
      " [1.]\n",
      " [0.]]\n",
      "[[0.  0.4]\n",
      " [1.  0.6]]\n",
      "1\n"
     ]
    }
   ],
   "source": [
    "print(simul_m)\n",
    "print(stop_first)\n",
    "print(arm_prob)\n",
    "print(opt_arm)"
   ]
  },
  {
   "cell_type": "code",
   "execution_count": 79,
   "metadata": {},
   "outputs": [
    {
     "data": {
      "text/plain": [
       "False"
      ]
     },
     "execution_count": 79,
     "metadata": {},
     "output_type": "execute_result"
    }
   ],
   "source": [
    "np.max(arm_prob[:,1])>=(1-stop_alpha)"
   ]
  },
  {
   "cell_type": "code",
   "execution_count": 147,
   "metadata": {},
   "outputs": [
    {
     "name": "stdout",
     "output_type": "stream",
     "text": [
      "[0.4 0.6]\n"
     ]
    },
    {
     "data": {
      "text/plain": [
       "array([1, 0, 1, 1, 0, 1, 1, 1, 1, 1])"
      ]
     },
     "execution_count": 147,
     "metadata": {},
     "output_type": "execute_result"
    }
   ],
   "source": [
    "print(np.linspace(0.4,0.6,2))\n",
    "bernoulli.rvs(0.6, size=10)"
   ]
  },
  {
   "cell_type": "code",
   "execution_count": 78,
   "metadata": {},
   "outputs": [
    {
     "name": "stdout",
     "output_type": "stream",
     "text": [
      "After 0.05 iterations, the winning arm is number 0.05.\n"
     ]
    }
   ],
   "source": [
    "if np.max(arm_prob[:,1])>=(1-stop_alpha):\n",
    "                opt_arm = arm_prob[np.argmax(arm_prob[:,1], axis=0),0]\n",
    "                print('The winner has been found! The arm number {} has been found as optimal at the {} confidence level after {} page views.'.format(opt_arm,stop_alpha, self.k))\n",
    "elif 1==1:\n",
    "    print('After {} iterations, the winning arm is number {}.'.format(stop_alpha, stop_alpha)) "
   ]
  },
  {
   "cell_type": "code",
   "execution_count": 33,
   "metadata": {},
   "outputs": [
    {
     "data": {
      "text/plain": [
       "array([[0.02574152, 0.657901  ],\n",
       "       [0.95200307, 0.8968902 ],\n",
       "       [0.11924942, 0.12384715],\n",
       "       [0.17294811, 0.83850458],\n",
       "       [0.7093667 , 0.21201003],\n",
       "       [0.61552885, 0.9916095 ],\n",
       "       [0.12653478, 0.17357755],\n",
       "       [0.88655027, 0.32172172],\n",
       "       [0.45359271, 0.19245398],\n",
       "       [0.23454614, 0.22786764]])"
      ]
     },
     "execution_count": 33,
     "metadata": {},
     "output_type": "execute_result"
    }
   ],
   "source": [
    "\n",
    "\n",
    "       #2ND - VALUE REMAINING\n",
    "        #The value remaining is the posterior distribution of (θmax-θ*)/θ*\n",
    "        ##θmax = largest value of θ\n",
    "        ##θ* = value of θ for the arm that is most likely to be optimal\n",
    "\n",
    "        #calculate the 95% percentile of the 'value remaining'\n",
    "            stop_second = np.percentile((np.max(simul_m,axis=1) - simul_m[:,opt_arm])/ simul_m[:,opt_arm], stop_value*100)\n",
    "        #End the experiment when there’s at least a 95% probability that the value remaining in the experiment is less than 1% of the champion’s conversion rate. \n",
    "        #That’s a 1% improvement - if the best arm has a conversion rate of 4%, the experiment ends if the value remaining in the experiment is less than .04 percentage points of CvR.\n",
    "            if np.max(arm_prob[:,1])>=(1-stop_alpha):\n",
    "                opt_arm = arm_prob[np.argmax(arm_prob[:,1], axis=0),0]\n",
    "                print('The winner has been found! The arm number {} has been found as optimal at the {} confidence level after {} page views.'.format(opt_arm,stop_alpha, self.k))\n",
    "                break\n",
    "                        elif iterat==self.k:\n",
    "                print('After {} iterations, the winning arm is number {}.'.format(iterat, opt_arm)) "
   ]
  },
  {
   "cell_type": "code",
   "execution_count": null,
   "metadata": {},
   "outputs": [],
   "source": []
  }
 ],
 "metadata": {
  "kernelspec": {
   "display_name": "Python [conda env:anaconda3]",
   "language": "python",
   "name": "conda-env-anaconda3-py"
  },
  "language_info": {
   "codemirror_mode": {
    "name": "ipython",
    "version": 2
   },
   "file_extension": ".py",
   "mimetype": "text/x-python",
   "name": "python",
   "nbconvert_exporter": "python",
   "pygments_lexer": "ipython2",
   "version": "2.7.15"
  }
 },
 "nbformat": 4,
 "nbformat_minor": 2
}
